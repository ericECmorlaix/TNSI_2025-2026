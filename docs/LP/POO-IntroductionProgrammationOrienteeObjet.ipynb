{
 "cells": [
  {
   "cell_type": "markdown",
   "metadata": {},
   "source": [
    "# POO - introduction à la Programmation Orientée Objet \n",
    "\n",
    "## Un nouveau paradigme de programmation :\n",
    "\n",
    "\n",
    "Jusqu’ici, les programmes que vous avez écrits ont été réalisés en programmation impérative : ils étaient constitués d'instructions qui se succédaient les unes après les autres, dans l'ordre où vous les aviez placées dans le code.\n",
    "\n",
    "Une variante de la programmation impérative, et que vous avez aussi utilisée, est la programmation procédurale : chaque programme a été décomposé en plusieurs fonctions réalisant des tâches simples.\n",
    "> En programmation procédurale, ce sont les fonctions qui sont au coeur du programme ; elles s'appliquent à modifier des données.\n",
    "\n",
    "Lorsque plusieurs programmeurs travaillent simultanément sur un gros projet, pour éviter les conflits entre les fonctions codées par chacuns, à partir des années 60, on a imaginé une programmation orientée objet, la POO.\n",
    "> En programmation orientée objet, ce sont les données qui sont au coeur du programme : celles-ci vont désormais être protégées et c'est le développeur qui décide comment elles seront créees, accessibles, modifiées, ...\n",
    "\n",
    "Le premier langage de programmation initiant une forme de programmation orientée objet fut Simula, créé à partir de 1962. Ce langage servait à faciliter la programmation de logiciels de simulation.\n",
    "Le premier langage de programmation réellement fondé sur la programmation orientée objet fut Smalltalk 71, créé au début des années 70.\n",
    "\n",
    "De très nombreux langages actuels fournissent les concepts de la POO, mais n'obligent cependant pas à l'utiliser; c'est le cas de Python par exemple.\n",
    "\n",
    "La POO n'est pas un nouveau \"langage\" de programmation à apprendre; c'est une autre façon d'aborder la conception d'un programme et de le coder, on parle d'un paradigme de programmation.\n",
    "\n",
    "En appliquant la POO, vous allez pouvoir désormais définir vos propres objets informatiques en précisant leurs types, leurs propriétés et les fonctionnalités agissant dessus...."
   ]
  },
  {
   "cell_type": "markdown",
   "metadata": {},
   "source": [
    "## Déjà vu :\n",
    "\n",
    "Comme M.Jourdain faisait de la prose sans le savoir, vous avez déjà utilisé l'an passé la programmation objet.\n",
    "\n",
    "Regardons par exemple comment est programmée la fonction `randint()` de la bibliothèque `random` :"
   ]
  },
  {
   "cell_type": "code",
   "execution_count": null,
   "metadata": {
    "trusted": false
   },
   "outputs": [],
   "source": [
    "import random\n",
    "import inspect\n",
    "\n",
    "print(inspect.getsource(random.randint))"
   ]
  },
  {
   "cell_type": "markdown",
   "metadata": {},
   "source": [
    "Excepté la présence d'un self surprenant (randint n'ayant besoin que de 2 paramètres a et b), rien de nouveau, on voit la définition d'une fonction très courte...\n",
    "\n",
    "Inspectons maintenant tout le code de la bibliothèque random, on constate la présence de mots-clés comme class, une fonction init et si vous chercher bien on y retrouve la fonction randint... mais inclue dans la définition de la classe...\n",
    "\n",
    "Cette façon d'organiser du code appartient à la POO !\n",
    "\n",
    "> Alors en [Python tout serait objet ?](https://python.developpez.com/cours/DiveIntoPython/php/frdiveintopython/getting_to_know_python/everything_is_an_object.php#:~:text=Mais%20tout%20est%20objet%20dans,Les%20cha%C3%AEnes%20sont%20des%20objets.)"
   ]
  },
  {
   "cell_type": "code",
   "execution_count": null,
   "metadata": {
    "trusted": false
   },
   "outputs": [],
   "source": [
    "print(inspect.getsource(random))"
   ]
  },
  {
   "cell_type": "markdown",
   "metadata": {},
   "source": [
    "## Activités de découverte :\n",
    "\n",
    "<h3 class='fa fa-graduation-cap' style=\"color: MediumSeaGreen\"> A faire vous même :</h3>\n",
    "\n",
    "Lire et faire les activités de la page [La programmation orientée objet](https://pixees.fr/informatiquelycee/n_site/nsi_term_paraProg_poo.html) proposée par David ROCHE en insérant des cellules de code ci-dessous, puis répondre aux questions suivantes :"
   ]
  },
  {
   "cell_type": "code",
   "execution_count": null,
   "metadata": {
    "trusted": false
   },
   "outputs": [],
   "source": [
    "class Personnage:\n",
    "    pass\n",
    "gollum = personnage()\n",
    "bilbo = personnage()"
   ]
  },
  {
   "cell_type": "code",
   "execution_count": null,
   "metadata": {
    "trusted": false
   },
   "outputs": [],
   "source": [
    "# ..."
   ]
  },
  {
   "cell_type": "markdown",
   "metadata": {},
   "source": [
    "#### Vocabulaire :\n",
    "\n",
    "##### En POO, comment nomme-t-on  ?\n",
    "\n",
    "    - les nouveaux types (structures) de données que l'on définit : ...\n",
    "    \n",
    "    - les représentants de ces nouveaux types : ...\n",
    "        \n",
    "    - les variables (caractéristiques) liées à ces nouveaux types : ...\n",
    "    \n",
    "    - les fonctions (comportement) propres à ces nouveaux types : ...\n",
    "    \n",
    "    \n",
    "##### Qu'est-ce que ?\n",
    "    \n",
    "    - l'encapsulation :\n",
    "    \n",
    "    - un constructeur :\n",
    "    \n",
    "    - un accesseur :\n",
    "    \n",
    "    - un mutateur :\n",
    "    "
   ]
  },
  {
   "cell_type": "markdown",
   "metadata": {},
   "source": [
    "## Autres ressources :\n",
    "\n",
    "- http://monlyceenumerique.fr/nsi_terminale/sd/sd2_programmation_objet.html\n",
    "- http://www.maths-info-lycee.fr/nsi.html\n",
    "- \n"
   ]
  },
  {
   "cell_type": "markdown",
   "metadata": {},
   "source": [
    "## Application : gestion d'un compte bancaire :\n",
    "\n",
    "Le but est de définir une classe CompteBancaire qui permette :\n",
    "\n",
    "- d’instancier des objets tels que compte1,compte2, ... .\n",
    "> Ces objets \"compte\" auront deux attributs : nom (= titulaire du compte) et solde (= argent sur le compte) ;\n",
    "\n",
    "- de connaître le nom du titulaire d'un compte, ainsi que la somme présente sur ce compte ;\n",
    "\n",
    "- de gérer les transferts d'argent sur le compte en \"sécurité\" et même de créer une méthode \"protégée\" pour pirater un compte.\n",
    "\n",
    "<h3 class='fa fa-code' style=\"color: darkorange\"> A coder vous même :</h3>\n",
    "\n",
    "- Créez la classe CompteBancaire.\n",
    "\n",
    "- Créez le constructeur de cette classe en faisant en sorte qu'un nouveau compte s'ouvre par défaut avec 0 euro dessus.\n",
    "\n",
    "- Créez les accesseurs à chacun des deux attributs des objets de la classe.\n",
    "\n",
    "- Créez un mutateur privé qui permet de faire évoluer la somme placée sur un compte de variation euros.\n",
    "\n",
    "- Rajoutez à ce mutateur un test qui permet d'afficher un message si le compte est à découvert à l'issue de la modification.\n",
    "\n",
    "- Créez une méthode depot qui utilise le mutateur privé précédent pour ajouter une certaine somme sur un compte bancaire.\n",
    "\n",
    "- Créez une méthode retrait qui utilise le mutateur privé précédent pour retirer une certaine somme sur un compte bancaire.\n",
    "\n",
    "- Testez cette méthode retrait de sorte qu'un compte passe dans le négatif. Est-ce que l'affichage prévu dans le mutateur privé gérant l'attribut solde s'affiche lors de l'utilisation de cette méthode publique ?\n",
    "\n",
    "- Créez une méthode afficher qui affiche le nom du titualire et le solde de son compte.\n",
    "\n",
    "- Créez un mutateur privé qui permette de changer le nom du titulaire.\n",
    "\n",
    "- Créez une méthode protégée _pirater qui utilise le mutateur précédent et qui permet de changer le nom du titulaire d'un compte bancaire.\n",
    "\n",
    "- Utilisez cette méthode _pirater pour vous attribuer un compte bancaire.\n",
    "\n",
    "Utiliser l'instruction help(CompteBancaire) afin de visualiser l'ensemble des méthodes visibles facilement par l'utilisateur du code.\n",
    "\n",
    "Un client peut-il facilement être au courant de la présence de cette méthode protégée _pirater ?"
   ]
  },
  {
   "cell_type": "markdown",
   "metadata": {},
   "source": [
    "****\n",
    "## Références aux programmes :\n",
    "\n",
    "<style type=\"text/css\">\n",
    ".tg  {border-collapse:collapse;border-spacing:0;}\n",
    ".tg td{font-family:Arial, sans-serif;font-size:14px;padding:10px 5px;border-style:solid;border-width:1px;overflow:hidden;word-break:normal;border-color:black;}\n",
    ".tg th{font-family:Arial, sans-serif;font-size:14px;font-weight:normal;padding:10px 5px;border-style:solid;border-width:1px;overflow:hidden;word-break:normal;border-color:black;}\n",
    ".tg .tg-cv16{font-weight:bold;background-color:#dae8fc;border-color:inherit;text-align:center}\n",
    ".tg .tg-xldj{border-color:inherit;text-align:left}\n",
    "</style>\n",
    "<h3 >Structures de données</h3> \n",
    "<table class=\"tg\">\n",
    "  <tr>\n",
    "    <th class=\"tg-cv16\">Contenus</th>\n",
    "    <th class=\"tg-cv16\">Capacités attendues</th>\n",
    "    <th class=\"tg-cv16\">Commentaires</th>\n",
    "  </tr>\n",
    "  <tr>\n",
    "    <td class=\"tg-xldj\">Vocabulaire de la programmation objet : classes, attributs, méthodes, objets.</td>\n",
    "    <td class=\"tg-xldj\">Écrire la définition d’une classe.<br>Accéder aux attributs et méthodes d’une classe.</td>\n",
    "    <td class=\"tg-xldj\">On n’aborde pas ici tous les aspects de la programmation objet comme le polymorphisme et l’héritage.</td>\n",
    "  </tr>\n",
    "    \n",
    "</table>\n",
    "\n",
    "<h3 >Langages et programmation</h3> \n",
    "<table class=\"tg\">\n",
    "  <tr>\n",
    "    <th class=\"tg-cv16\">Contenus</th>\n",
    "    <th class=\"tg-cv16\">Capacités attendues</th>\n",
    "    <th class=\"tg-cv16\">Commentaires</th>\n",
    "  </tr>\n",
    "  <tr>\n",
    "    <td class=\"tg-xldj\">Paradigmes de programmation.</td>\n",
    "    <td class=\"tg-xldj\">Distinguer sur des exemples les paradigmes impératif, fonctionnel et objet.<br>Choisir le paradigme de\n",
    "programmation selon le champ d’application d’un programme.</td>\n",
    "    <td class=\"tg-xldj\">Avec un même langage de programmation, on peut utiliser des paradigmes différents. Dans un même programme, on peut utiliser des paradigmes différents.</td>\n",
    "    \n",
    "</table>"
   ]
  },
  {
   "cell_type": "markdown",
   "metadata": {},
   "source": [
    "<a rel=\"license\" href=\"http://creativecommons.org/licenses/by-sa/4.0/\"><img alt=\"Licence Creative Commons\" style=\"border-width:0\" src=\"https://i.creativecommons.org/l/by-sa/4.0/88x31.png\" /></a><br />Ce document, basé sur le travail de [David ROCHE](https://pixees.fr/informatiquelycee/n_site/nsi_prem.html) et d'autres ressources listées plus haut, est mis à disposition selon les termes de la <a rel=\"license\" href=\"http://creativecommons.org/licenses/by-sa/4.0/\">Licence Creative Commons Attribution -  Partage dans les Mêmes Conditions 4.0 International</a>.\n",
    "\n",
    "Pour toute question, suggestion ou commentaire : <a href=\"mailto:eric.madec@ecmorlaix.fr\">eric.madec@ecmorlaix.fr</a>"
   ]
  },
  {
   "cell_type": "code",
   "execution_count": null,
   "metadata": {
    "trusted": false
   },
   "outputs": [],
   "source": []
  }
 ],
 "metadata": {
  "kernelspec": {
   "display_name": "Python 3.10.1 64-bit",
   "language": "python",
   "name": "python3"
  },
  "language_info": {
   "codemirror_mode": {
    "name": "ipython",
    "version": 3
   },
   "file_extension": ".py",
   "mimetype": "text/x-python",
   "name": "python",
   "nbconvert_exporter": "python",
   "pygments_lexer": "ipython3",
   "version": "3.10.1"
  },
  "toc": {
   "base_numbering": 1,
   "nav_menu": {},
   "number_sections": true,
   "sideBar": true,
   "skip_h1_title": false,
   "title_cell": "Table of Contents",
   "title_sidebar": "Contents",
   "toc_cell": false,
   "toc_position": {},
   "toc_section_display": true,
   "toc_window_display": false
  },
  "varInspector": {
   "cols": {
    "lenName": 16,
    "lenType": 16,
    "lenVar": 40
   },
   "kernels_config": {
    "python": {
     "delete_cmd_postfix": "",
     "delete_cmd_prefix": "del ",
     "library": "var_list.py",
     "varRefreshCmd": "print(var_dic_list())"
    },
    "r": {
     "delete_cmd_postfix": ") ",
     "delete_cmd_prefix": "rm(",
     "library": "var_list.r",
     "varRefreshCmd": "cat(var_dic_list()) "
    }
   },
   "types_to_exclude": [
    "module",
    "function",
    "builtin_function_or_method",
    "instance",
    "_Feature"
   ],
   "window_display": false
  },
  "vscode": {
   "interpreter": {
    "hash": "c813da0d88532624e95401f841607d640ef6d724b81c00ab0d0885f617a921c3"
   }
  }
 },
 "nbformat": 4,
 "nbformat_minor": 2
}
